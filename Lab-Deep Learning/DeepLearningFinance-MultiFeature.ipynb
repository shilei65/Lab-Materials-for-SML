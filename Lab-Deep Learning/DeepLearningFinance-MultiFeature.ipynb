{
 "cells": [
  {
   "cell_type": "markdown",
   "id": "f2637528dfedf062",
   "metadata": {},
   "source": [
    "# Stock Price Prediction using LSTM"
   ]
  },
  {
   "cell_type": "code",
   "execution_count": 1,
   "id": "caccd11bcc33476",
   "metadata": {
    "ExecuteTime": {
     "end_time": "2024-02-18T14:25:24.705822Z",
     "start_time": "2024-02-18T14:25:23.546448Z"
    }
   },
   "outputs": [],
   "source": [
    "# import yfinance as yf\n",
    "import torch\n",
    "import torch.nn as nn\n",
    "import torch.optim as optim\n",
    "import numpy as np\n",
    "from sklearn.preprocessing import MinMaxScaler\n",
    "from torch.utils.data import DataLoader, TensorDataset\n",
    "from sklearn.metrics import mean_squared_error\n",
    "import matplotlib.pyplot as plt\n",
    "import pandas as pd"
   ]
  },
  {
   "cell_type": "code",
   "execution_count": 2,
   "id": "3cb3b11c5522e675",
   "metadata": {
    "ExecuteTime": {
     "end_time": "2024-02-18T14:25:24.707058Z",
     "start_time": "2024-02-18T14:25:24.705709Z"
    }
   },
   "outputs": [],
   "source": [
    "# Down load data\n",
    "# stock_symbol = 'AAPL'  # Apple Inc. \n",
    "# start_date = '2016-01-01'\n",
    "# end_date = '2022-01-01'\n",
    "# stock_data = yf.download(stock_symbol, start=start_date, end=end_date)\n",
    "\n",
    "# Save data as .csv file\n",
    "# csv_file_path = 'stock_data1.csv'\n",
    "# stock_data.to_csv(csv_file_path, index=True)"
   ]
  },
  {
   "cell_type": "code",
   "execution_count": 3,
   "id": "c7d868c31270b0b",
   "metadata": {
    "ExecuteTime": {
     "end_time": "2024-02-18T14:25:24.713638Z",
     "start_time": "2024-02-18T14:25:24.708168Z"
    }
   },
   "outputs": [],
   "source": [
    "# Read data\n",
    "csv_file_path = 'stock_data1.csv'\n",
    "stock_data = pd.read_csv(csv_file_path)"
   ]
  },
  {
   "cell_type": "code",
   "execution_count": 4,
   "id": "81a0145b93c02de2",
   "metadata": {
    "scrolled": true,
    "ExecuteTime": {
     "end_time": "2024-02-18T14:25:24.727605Z",
     "start_time": "2024-02-18T14:25:24.716713Z"
    }
   },
   "outputs": [
    {
     "data": {
      "text/plain": "            Open        High         Low     Volume       Close\n0      25.652500   26.342501   25.500000  270597600   26.337500\n1      26.437500   26.462500   25.602501  223164000   25.677500\n2      25.139999   25.592501   24.967501  273829600   25.174999\n3      24.670000   25.032499   24.107500  324377600   24.112499\n4      24.637501   24.777500   24.190001  283192000   24.240000\n...          ...         ...         ...        ...         ...\n1506  177.089996  180.419998  177.070007   74919600  180.330002\n1507  180.160004  181.330002  178.529999   79144300  179.289993\n1508  179.330002  180.630005  178.139999   62348900  179.380005\n1509  179.470001  180.570007  178.089996   59773000  178.199997\n1510  178.089996  179.229996  177.259995   64062300  177.570007\n\n[1511 rows x 5 columns]",
      "text/html": "<div>\n<style scoped>\n    .dataframe tbody tr th:only-of-type {\n        vertical-align: middle;\n    }\n\n    .dataframe tbody tr th {\n        vertical-align: top;\n    }\n\n    .dataframe thead th {\n        text-align: right;\n    }\n</style>\n<table border=\"1\" class=\"dataframe\">\n  <thead>\n    <tr style=\"text-align: right;\">\n      <th></th>\n      <th>Open</th>\n      <th>High</th>\n      <th>Low</th>\n      <th>Volume</th>\n      <th>Close</th>\n    </tr>\n  </thead>\n  <tbody>\n    <tr>\n      <th>0</th>\n      <td>25.652500</td>\n      <td>26.342501</td>\n      <td>25.500000</td>\n      <td>270597600</td>\n      <td>26.337500</td>\n    </tr>\n    <tr>\n      <th>1</th>\n      <td>26.437500</td>\n      <td>26.462500</td>\n      <td>25.602501</td>\n      <td>223164000</td>\n      <td>25.677500</td>\n    </tr>\n    <tr>\n      <th>2</th>\n      <td>25.139999</td>\n      <td>25.592501</td>\n      <td>24.967501</td>\n      <td>273829600</td>\n      <td>25.174999</td>\n    </tr>\n    <tr>\n      <th>3</th>\n      <td>24.670000</td>\n      <td>25.032499</td>\n      <td>24.107500</td>\n      <td>324377600</td>\n      <td>24.112499</td>\n    </tr>\n    <tr>\n      <th>4</th>\n      <td>24.637501</td>\n      <td>24.777500</td>\n      <td>24.190001</td>\n      <td>283192000</td>\n      <td>24.240000</td>\n    </tr>\n    <tr>\n      <th>...</th>\n      <td>...</td>\n      <td>...</td>\n      <td>...</td>\n      <td>...</td>\n      <td>...</td>\n    </tr>\n    <tr>\n      <th>1506</th>\n      <td>177.089996</td>\n      <td>180.419998</td>\n      <td>177.070007</td>\n      <td>74919600</td>\n      <td>180.330002</td>\n    </tr>\n    <tr>\n      <th>1507</th>\n      <td>180.160004</td>\n      <td>181.330002</td>\n      <td>178.529999</td>\n      <td>79144300</td>\n      <td>179.289993</td>\n    </tr>\n    <tr>\n      <th>1508</th>\n      <td>179.330002</td>\n      <td>180.630005</td>\n      <td>178.139999</td>\n      <td>62348900</td>\n      <td>179.380005</td>\n    </tr>\n    <tr>\n      <th>1509</th>\n      <td>179.470001</td>\n      <td>180.570007</td>\n      <td>178.089996</td>\n      <td>59773000</td>\n      <td>178.199997</td>\n    </tr>\n    <tr>\n      <th>1510</th>\n      <td>178.089996</td>\n      <td>179.229996</td>\n      <td>177.259995</td>\n      <td>64062300</td>\n      <td>177.570007</td>\n    </tr>\n  </tbody>\n</table>\n<p>1511 rows × 5 columns</p>\n</div>"
     },
     "execution_count": 4,
     "metadata": {},
     "output_type": "execute_result"
    }
   ],
   "source": [
    "# Extract closing prices as target values\n",
    "features = ['Open', 'High', 'Low', 'Volume']  # Add other features as needed\n",
    "target_column = 'Close'\n",
    "stock_prices = stock_data[features + [target_column]]\n",
    "stock_prices"
   ]
  },
  {
   "cell_type": "code",
   "execution_count": 5,
   "id": "57fd7561f5c2c341",
   "metadata": {
    "ExecuteTime": {
     "end_time": "2024-02-18T14:25:24.735904Z",
     "start_time": "2024-02-18T14:25:24.723531Z"
    }
   },
   "outputs": [],
   "source": [
    "# Data preprocessing\n",
    "scaler = MinMaxScaler(feature_range=(-1, 1))\n",
    "stock_prices_scaled = scaler.fit_transform(stock_prices)\n",
    "\n",
    "# Convert data to PyTorch Tensor\n",
    "seq_length = 7  # input sequence length\n",
    "X, y = [], []\n",
    "\n",
    "for i in range(len(stock_prices_scaled) - seq_length):\n",
    "    X.append(stock_prices_scaled[i:i + seq_length, :])\n",
    "    y.append(stock_prices_scaled[i + seq_length, -1])  # Close is the last column\n",
    "\n",
    "\n",
    "X = torch.tensor(np.array(X), dtype=torch.float32)\n",
    "y = torch.tensor(y, dtype=torch.float32).view(-1, 1)"
   ]
  },
  {
   "cell_type": "code",
   "execution_count": 6,
   "id": "52a897b9",
   "metadata": {
    "ExecuteTime": {
     "end_time": "2024-02-18T14:25:24.736538Z",
     "start_time": "2024-02-18T14:25:24.729064Z"
    }
   },
   "outputs": [
    {
     "data": {
      "text/plain": "torch.Size([1504, 1])"
     },
     "execution_count": 6,
     "metadata": {},
     "output_type": "execute_result"
    }
   ],
   "source": [
    "y.shape"
   ]
  },
  {
   "cell_type": "code",
   "execution_count": 7,
   "id": "f2403e0d425d3db4",
   "metadata": {
    "ExecuteTime": {
     "end_time": "2024-02-18T14:25:24.736967Z",
     "start_time": "2024-02-18T14:25:24.731575Z"
    }
   },
   "outputs": [
    {
     "data": {
      "text/plain": "torch.Size([1504, 7, 5])"
     },
     "execution_count": 7,
     "metadata": {},
     "output_type": "execute_result"
    }
   ],
   "source": [
    "X.shape"
   ]
  },
  {
   "cell_type": "code",
   "execution_count": 8,
   "id": "f064c135e99f6766",
   "metadata": {
    "ExecuteTime": {
     "end_time": "2024-02-18T14:25:24.747965Z",
     "start_time": "2024-02-18T14:25:24.735063Z"
    }
   },
   "outputs": [
    {
     "data": {
      "text/plain": "torch.Size([151, 1])"
     },
     "execution_count": 8,
     "metadata": {},
     "output_type": "execute_result"
    }
   ],
   "source": [
    "# Split into training and testing sets\n",
    "split = int(0.9 * len(X))\n",
    "X_train, X_test = X[:split], X[split:]\n",
    "y_train, y_test = y[:split], y[split:]\n",
    "\n",
    "y_test.shape"
   ]
  },
  {
   "cell_type": "code",
   "execution_count": 9,
   "id": "2742c743",
   "metadata": {
    "ExecuteTime": {
     "end_time": "2024-02-18T14:25:24.749389Z",
     "start_time": "2024-02-18T14:25:24.737676Z"
    }
   },
   "outputs": [],
   "source": [
    "# Create DataLoader\n",
    "batch_size = 64\n",
    "\n",
    "X_train, X_test = X_train.to('cpu'), X_test.to('cpu')\n",
    "y_train, y_test = y_train.to('cpu'), y_test.to('cpu')\n",
    "\n",
    "train_dataset = TensorDataset(X_train, y_train)\n",
    "train_dataloader = DataLoader(train_dataset, batch_size=batch_size, shuffle=True)"
   ]
  },
  {
   "cell_type": "code",
   "execution_count": 10,
   "id": "9a1a23fb5b71add0",
   "metadata": {
    "ExecuteTime": {
     "end_time": "2024-02-18T14:25:24.767440Z",
     "start_time": "2024-02-18T14:25:24.741529Z"
    }
   },
   "outputs": [],
   "source": [
    "# Define LSTM model\n",
    "class StockPricePredictor(nn.Module):\n",
    "    def __init__(self, input_size, hidden_size, output_size):\n",
    "        super(StockPricePredictor, self).__init__()\n",
    "        self.lstm = nn.LSTM(input_size, hidden_size, batch_first=True)\n",
    "        self.fc = nn.Linear(hidden_size, output_size)\n",
    "\n",
    "    def forward(self, x):\n",
    "        out, _ = self.lstm(x)\n",
    "        out = self.fc(out[:, -1, :])\n",
    "        return out\n"
   ]
  },
  {
   "cell_type": "code",
   "execution_count": 11,
   "id": "d87797171f69b4c4",
   "metadata": {
    "ExecuteTime": {
     "end_time": "2024-02-18T14:25:25.146963Z",
     "start_time": "2024-02-18T14:25:24.743808Z"
    }
   },
   "outputs": [],
   "source": [
    "# Initialize model and optimizer\n",
    "input_size = len(features)+1  # number of features \n",
    "hidden_size = 30\n",
    "output_size = 1  # predicted closing price\n",
    "num_epochs = 40\n",
    "learning_rate = 0.001\n",
    "\n",
    "model = StockPricePredictor(input_size, hidden_size, output_size)\n",
    "model = model.to('cpu')\n",
    "\n",
    "criterion = nn.MSELoss()\n",
    "optimizer = optim.Adam(model.parameters(), lr=learning_rate)\n"
   ]
  },
  {
   "cell_type": "code",
   "execution_count": 12,
   "id": "b81387bf39ac9060",
   "metadata": {
    "ExecuteTime": {
     "end_time": "2024-02-18T14:25:26.539863Z",
     "start_time": "2024-02-18T14:25:25.147704Z"
    }
   },
   "outputs": [
    {
     "name": "stdout",
     "output_type": "stream",
     "text": [
      "Epoch [10/40], Loss: 0.0048\n",
      "Epoch [20/40], Loss: 0.0007\n",
      "Epoch [30/40], Loss: 0.0002\n",
      "Epoch [40/40], Loss: 0.0003\n"
     ]
    }
   ],
   "source": [
    "# Train the model\n",
    "for epoch in range(num_epochs):\n",
    "    for batch_inputs, batch_targets in train_dataloader:\n",
    "        optimizer.zero_grad()\n",
    "        outputs = model(batch_inputs)\n",
    "        loss = criterion(outputs, batch_targets)\n",
    "        loss.backward()\n",
    "        optimizer.step()\n",
    "\n",
    "    if (epoch + 1) % 10 == 0:\n",
    "        print(f'Epoch [{epoch+1}/{num_epochs}], Loss: {loss.item():.4f}')"
   ]
  },
  {
   "cell_type": "code",
   "execution_count": 13,
   "id": "bb437da01b85a969",
   "metadata": {
    "ExecuteTime": {
     "end_time": "2024-02-18T14:25:26.540552Z",
     "start_time": "2024-02-18T14:25:26.536509Z"
    }
   },
   "outputs": [],
   "source": [
    "# Predict on the test set\n",
    "model.eval()\n",
    "with torch.no_grad():\n",
    "    test_predictions = model(X_test)"
   ]
  },
  {
   "cell_type": "code",
   "execution_count": 14,
   "id": "e4b19808",
   "metadata": {
    "ExecuteTime": {
     "end_time": "2024-02-18T14:25:26.541927Z",
     "start_time": "2024-02-18T14:25:26.540005Z"
    }
   },
   "outputs": [
    {
     "data": {
      "text/plain": "torch.Size([151, 1])"
     },
     "execution_count": 14,
     "metadata": {},
     "output_type": "execute_result"
    }
   ],
   "source": [
    "test_predictions.shape"
   ]
  },
  {
   "cell_type": "code",
   "execution_count": 15,
   "id": "084fc933",
   "metadata": {
    "ExecuteTime": {
     "end_time": "2024-02-18T14:25:26.546945Z",
     "start_time": "2024-02-18T14:25:26.542594Z"
    }
   },
   "outputs": [
    {
     "data": {
      "text/plain": "torch.Size([151, 1])"
     },
     "execution_count": 15,
     "metadata": {},
     "output_type": "execute_result"
    }
   ],
   "source": [
    "y_test.shape"
   ]
  },
  {
   "cell_type": "code",
   "execution_count": 16,
   "id": "d096b1233e9414cd",
   "metadata": {
    "ExecuteTime": {
     "end_time": "2024-02-18T14:25:26.547696Z",
     "start_time": "2024-02-18T14:25:26.544974Z"
    }
   },
   "outputs": [
    {
     "name": "stdout",
     "output_type": "stream",
     "text": [
      "Mean Squared Error (MSE): 0.02\n",
      "Root Mean Squared Error (RMSE): 0.13\n"
     ]
    }
   ],
   "source": [
    "# Compute metrics\n",
    "mse = mean_squared_error(y_test, test_predictions)\n",
    "rmse = np.sqrt(mse)\n",
    "print(f'Mean Squared Error (MSE): {mse:.2f}')\n",
    "print(f'Root Mean Squared Error (RMSE): {rmse:.2f}')"
   ]
  },
  {
   "cell_type": "code",
   "execution_count": 17,
   "id": "b7b9328011226b6e",
   "metadata": {
    "ExecuteTime": {
     "end_time": "2024-02-18T14:25:26.652499Z",
     "start_time": "2024-02-18T14:25:26.549713Z"
    }
   },
   "outputs": [
    {
     "data": {
      "text/plain": "<Figure size 1200x600 with 1 Axes>",
      "image/png": "[encoded data removed]"
     },
     "metadata": {},
     "output_type": "display_data"
    }
   ],
   "source": [
    "# Extract dates index from test data\n",
    "dates = pd.to_datetime(stock_data.iloc[-len(test_predictions):, 0])\n",
    "\n",
    "# Plot actual and predicted closing prices\n",
    "plt.figure(figsize=(12, 6))\n",
    "plt.plot(dates, y_test, label='Actual Close Price', color='blue')\n",
    "plt.plot(dates, test_predictions, label='Predicted Close Price', color='orange')\n",
    "plt.title('Stock Price Prediction using LSTM')\n",
    "plt.xlabel('Date')\n",
    "plt.ylabel('Close Price')\n",
    "plt.legend()\n",
    "plt.show()"
   ]
  },
  {
   "cell_type": "code",
   "execution_count": 17,
   "id": "d94080fd91d6e913",
   "metadata": {
    "ExecuteTime": {
     "end_time": "2024-02-18T14:25:26.653028Z",
     "start_time": "2024-02-18T14:25:26.649731Z"
    }
   },
   "outputs": [],
   "source": []
  }
 ],
 "metadata": {
  "kernelspec": {
   "display_name": "Python 3 (ipykernel)",
   "language": "python",
   "name": "python3"
  },
  "language_info": {
   "codemirror_mode": {
    "name": "ipython",
    "version": 3
   },
   "file_extension": ".py",
   "mimetype": "text/x-python",
   "name": "python",
   "nbconvert_exporter": "python",
   "pygments_lexer": "ipython3",
   "version": "3.11.5"
  }
 },
 "nbformat": 4,
 "nbformat_minor": 5
}
